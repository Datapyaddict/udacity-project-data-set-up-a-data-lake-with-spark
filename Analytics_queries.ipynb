{
 "cells": [
  {
   "cell_type": "markdown",
   "id": "ea017899",
   "metadata": {},
   "source": [
    "# The purpose of this notebook is to get the parquet data from s3 output bucket into tables "
   ]
  },
  {
   "cell_type": "code",
   "execution_count": 16,
   "id": "a37d4d18",
   "metadata": {},
   "outputs": [],
   "source": [
    "import configparser\n",
    "from pyspark.sql import SparkSession\n",
    "\n",
    "config = configparser.ConfigParser()\n",
    "config.read('dl.cfg')\n",
    "\n",
    "output_data = config['S3_BUCKET']['OUTPUT_DATA_S3A']"
   ]
  },
  {
   "cell_type": "code",
   "execution_count": 17,
   "id": "d690390f",
   "metadata": {},
   "outputs": [],
   "source": [
    "spark = SparkSession \\\n",
    "    .builder \\\n",
    "    .config(\"spark.jars.packages\",\"org.apache.hadoop:hadoop-aws:3.2.2\")\\\n",
    "    .config('spark.hadoop.fs.s3a.aws.credentials.provider', 'com.amazonaws.auth.DefaultAWSCredentialsProviderChain') \\\n",
    "    .getOrCreate()"
   ]
  },
  {
   "cell_type": "code",
   "execution_count": 18,
   "id": "f0ba3568",
   "metadata": {},
   "outputs": [],
   "source": [
    "songs_df = spark.read.parquet(os.path.join(output_data,'songs/*/*/*.parquet'))"
   ]
  },
  {
   "cell_type": "code",
   "execution_count": 19,
   "id": "2d16fe92",
   "metadata": {
    "scrolled": true
   },
   "outputs": [
    {
     "name": "stdout",
     "output_type": "stream",
     "text": [
      "+------------------+--------------------+------------------+----+---------+\n",
      "|           song_id|               title|         artist_id|year| duration|\n",
      "+------------------+--------------------+------------------+----+---------+\n",
      "|SOKTJDS12AF72A25E5|Drown In My Own T...|ARA23XO1187B9AF18F|   0|  192.522|\n",
      "|SOEKAZG12AB018837E|I'll Slap Your Fa...|ARSVTNL1187B992A91|2001|129.85424|\n",
      "|SOAFBCP12A8C13CC7D|King Of Scurf (20...|ARTC1LV1187B9A4858|1972|301.40036|\n",
      "|SORRNOC12AB017F52B|The Last Beat Of ...|ARSZ7L31187FB4E610|2004|337.81506|\n",
      "|SOQPWCR12A6D4FB2A3|A Poor Recipe For...|AR73AIO1187B9AD57B|2005|118.07302|\n",
      "|SODZYPO12A8C13A91E|Burn My Body (Alb...|AR1C2IX1187B99BF74|   0|177.99791|\n",
      "|SOBRKGM12A8C139EF6|Welcome to the Pl...|ARXQBR11187B98A2CC|1985|821.05424|\n",
      "|SOERIDA12A6D4F8506|I Want You (Album...|ARBZIN01187FB362CC|2006|192.28689|\n",
      "|SOAPERH12A58A787DC|The One And Only ...|ARZ5H0P1187B98A1DD|   0|230.42567|\n",
      "|SOSMJFC12A8C13DE0C|Is That All There...|AR1KTV21187B9ACD72|   0|343.87546|\n",
      "+------------------+--------------------+------------------+----+---------+\n",
      "only showing top 10 rows\n",
      "\n"
     ]
    }
   ],
   "source": [
    "songs_df.show(10)"
   ]
  },
  {
   "cell_type": "code",
   "execution_count": 20,
   "id": "88d756c8",
   "metadata": {},
   "outputs": [],
   "source": [
    "artists_df = spark.read.parquet(os.path.join(output_data,'artists/*.parquet'))"
   ]
  },
  {
   "cell_type": "code",
   "execution_count": 21,
   "id": "d6b5db15",
   "metadata": {},
   "outputs": [
    {
     "name": "stdout",
     "output_type": "stream",
     "text": [
      "+------------------+--------------------+--------------------+--------+----------+\n",
      "|         artist_id|                name|            location|latitude| longitude|\n",
      "+------------------+--------------------+--------------------+--------+----------+\n",
      "|ARTC1LV1187B9A4858|  The Bonzo Dog Band|Goldsmith's Colle...| 51.4536|  -0.01802|\n",
      "|ARA23XO1187B9AF18F|     The Smithereens|Carteret, New Jersey|40.57885| -74.21956|\n",
      "|AR73AIO1187B9AD57B|   Western Addiction|   San Francisco, CA|37.77916|-122.42005|\n",
      "|AR10USD1187B99F3F1|Tweeterfriendly M...|Burlington, Ontar...|    null|      null|\n",
      "|ARSVTNL1187B992A91|       Jonathan King|     London, England|51.50632|  -0.12714|\n",
      "|AR5LMPY1187FB573FE|   Chaka Khan_ Rufus|         Chicago, IL|41.88415| -87.63241|\n",
      "|ARZ5H0P1187B98A1DD|          Snoop Dogg|      Long Beach, CA|33.76672| -118.1924|\n",
      "|ARY589G1187B9A9F4E|         Talkdemonic|        Portland, OR|45.51179|-122.67563|\n",
      "|ARXQBR11187B98A2CC|Frankie Goes To H...|  Liverpool, England|    null|      null|\n",
      "|ARMJAGH1187FB546F3|        The Box Tops|         Memphis, TN|35.14968| -90.04892|\n",
      "+------------------+--------------------+--------------------+--------+----------+\n",
      "only showing top 10 rows\n",
      "\n"
     ]
    }
   ],
   "source": [
    "artists_df.show(10)"
   ]
  },
  {
   "cell_type": "code",
   "execution_count": 22,
   "id": "82571ddd",
   "metadata": {},
   "outputs": [],
   "source": [
    "users_df = spark.read.parquet(os.path.join(output_data,'users/*.parquet'))"
   ]
  },
  {
   "cell_type": "code",
   "execution_count": 23,
   "id": "0ffd2606",
   "metadata": {},
   "outputs": [
    {
     "name": "stdout",
     "output_type": "stream",
     "text": [
      "+-------+----------+---------+------+-----+\n",
      "|user_id|first_name|last_name|gender|level|\n",
      "+-------+----------+---------+------+-----+\n",
      "|    100|     Adler|  Barrera|     M| free|\n",
      "|     89|   Kynnedi|  Sanchez|     F| free|\n",
      "|     85|   Kinsley|    Young|     F| paid|\n",
      "|     85|   Kinsley|    Young|     F| free|\n",
      "|     66|     Kevin| Arellano|     M| free|\n",
      "|     27|    Carlos|   Carter|     M| free|\n",
      "|     38|    Gianna|    Jones|     F| free|\n",
      "|     64|    Hannah|  Calhoun|     F| free|\n",
      "|     16|     Rylan|   George|     M| free|\n",
      "|     37|    Jordan|    Hicks|     F| free|\n",
      "+-------+----------+---------+------+-----+\n",
      "only showing top 10 rows\n",
      "\n"
     ]
    }
   ],
   "source": [
    "users_df.show(10)"
   ]
  },
  {
   "cell_type": "code",
   "execution_count": 24,
   "id": "8c1a2f79",
   "metadata": {},
   "outputs": [],
   "source": [
    "time_df = spark.read.parquet(os.path.join(output_data,'time/*/*/*.parquet'))"
   ]
  },
  {
   "cell_type": "code",
   "execution_count": 25,
   "id": "741c8214",
   "metadata": {},
   "outputs": [
    {
     "name": "stdout",
     "output_type": "stream",
     "text": [
      "+--------------------+----+---+----+-----+----+-------+\n",
      "|          start_time|hour|day|week|month|year|weekday|\n",
      "+--------------------+----+---+----+-----+----+-------+\n",
      "|2018-11-05 17:02:...|  17|  5|  45|   11|2018|      2|\n",
      "|2018-11-13 21:17:...|  21| 13|  46|   11|2018|      3|\n",
      "|2018-11-13 18:05:...|  18| 13|  46|   11|2018|      3|\n",
      "|2018-11-05 15:14:...|  15|  5|  45|   11|2018|      2|\n",
      "|2018-11-05 18:41:...|  18|  5|  45|   11|2018|      2|\n",
      "|2018-11-13 17:43:...|  17| 13|  46|   11|2018|      3|\n",
      "|2018-11-13 06:24:...|   6| 13|  46|   11|2018|      3|\n",
      "|2018-11-05 02:42:...|   2|  5|  45|   11|2018|      2|\n",
      "|2018-11-05 16:00:...|  16|  5|  45|   11|2018|      2|\n",
      "|2018-11-28 09:36:...|   9| 28|  48|   11|2018|      4|\n",
      "+--------------------+----+---+----+-----+----+-------+\n",
      "only showing top 10 rows\n",
      "\n"
     ]
    }
   ],
   "source": [
    "time_df.show(10)"
   ]
  },
  {
   "cell_type": "code",
   "execution_count": 26,
   "id": "46cbafec",
   "metadata": {},
   "outputs": [],
   "source": [
    "songplays_df = spark.read.parquet(os.path.join(output_data,'songplays/*/*/*.parquet'))"
   ]
  },
  {
   "cell_type": "code",
   "execution_count": 27,
   "id": "9d927e10",
   "metadata": {},
   "outputs": [
    {
     "name": "stdout",
     "output_type": "stream",
     "text": [
      "+-----------+--------------------+-------+-----+------------------+------------------+----------+--------------------+--------------------+\n",
      "|songplay_id|          start_time|user_id|level|           song_id|         artist_id|session_id|            location|          user_agent|\n",
      "+-----------+--------------------+-------+-----+------------------+------------------+----------+--------------------+--------------------+\n",
      "|          0|2018-11-15 16:19:...|     97| paid|SOBLFFE12AF72AA5BA|ARJNIUY12298900C91|       605|Lansing-East Lans...|\"Mozilla/5.0 (X11...|\n",
      "+-----------+--------------------+-------+-----+------------------+------------------+----------+--------------------+--------------------+\n",
      "\n"
     ]
    }
   ],
   "source": [
    "songplays_df.show(10)"
   ]
  }
 ],
 "metadata": {
  "kernelspec": {
   "display_name": "Python 3 (ipykernel)",
   "language": "python",
   "name": "python3"
  },
  "language_info": {
   "codemirror_mode": {
    "name": "ipython",
    "version": 3
   },
   "file_extension": ".py",
   "mimetype": "text/x-python",
   "name": "python",
   "nbconvert_exporter": "python",
   "pygments_lexer": "ipython3",
   "version": "3.9.7"
  }
 },
 "nbformat": 4,
 "nbformat_minor": 5
}
