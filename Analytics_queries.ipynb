{
 "cells": [
  {
   "cell_type": "markdown",
   "id": "ea017899",
   "metadata": {},
   "source": [
    "# The purpose of this notebook is to get the parquet data from s3 output bucket into tables "
   ]
  },
  {
   "cell_type": "code",
   "execution_count": 4,
   "id": "a37d4d18",
   "metadata": {},
   "outputs": [],
   "source": [
    "import configparser\n",
    "import os\n",
    "from pyspark.sql import SparkSession\n",
    "\n",
    "config = configparser.ConfigParser()\n",
    "config.read('dl.cfg')\n",
    "\n",
    "output_data = config['S3_BUCKET']['OUTPUT_DATA_S3A']"
   ]
  },
  {
   "cell_type": "code",
   "execution_count": 5,
   "id": "d690390f",
   "metadata": {},
   "outputs": [],
   "source": [
    "spark = SparkSession \\\n",
    "    .builder \\\n",
    "    .config(\"spark.jars.packages\",\"org.apache.hadoop:hadoop-aws:3.2.2\")\\\n",
    "    .config('spark.hadoop.fs.s3a.aws.credentials.provider', 'com.amazonaws.auth.DefaultAWSCredentialsProviderChain') \\\n",
    "    .getOrCreate()"
   ]
  },
  {
   "cell_type": "code",
   "execution_count": 6,
   "id": "f0ba3568",
   "metadata": {},
   "outputs": [],
   "source": [
    "songs_df = spark.read.parquet(os.path.join(output_data,'songs/*/*/*.parquet'))"
   ]
  },
  {
   "cell_type": "code",
   "execution_count": 7,
   "id": "2d16fe92",
   "metadata": {
    "scrolled": true
   },
   "outputs": [
    {
     "name": "stdout",
     "output_type": "stream",
     "text": [
      "+------------------+--------------------+------------------+----+----------+\n",
      "|           song_id|               title|         artist_id|year|  duration|\n",
      "+------------------+--------------------+------------------+----+----------+\n",
      "|SOECXBG12A6D4F88EE|Le Bourgeois Gent...|ARTHSAE12131B4B70A|   0| 137.97832|\n",
      "|SOCETGU12A8C1381E8|Pickin' & Singin'...|ARCS4GZ1187FB469EB|   0| 124.05506|\n",
      "|SOCWCPW12A8C13C477|George Gershwin/ ...|AR18R7P1187B9A9570|   0| 370.59873|\n",
      "|SODSKGE12A8C144435| Flowers On The Wall|ARJUNZD1187B9A5DAE|   0| 126.79791|\n",
      "|SOTUPIO12A67021463|Take Me To The Wa...|ARZZXT51187FB4627E|   0| 254.35383|\n",
      "|SOBGEIG12A6D4F6635|Raga Anandi Kalya...|ARSTA431187B9A3599|   0|1519.28118|\n",
      "|SOYXCUN12A6310D884|The Grasshopper U...|ARLHO5Z1187FB4C861|   0| 181.10649|\n",
      "|SOLVFLD12A8C1387BF|We Will Rock You ...|ARL4TII1187B9B46E1|   0| 186.14812|\n",
      "|SOIPLJZ12A58A7F153|A Shawl Of Galway...|ARA04401187B991E6E|   0| 197.04118|\n",
      "|SOLSRKX12A8C14466D|     Hey_ Snow White|ARFF4B41187FB48151|   0| 265.79546|\n",
      "+------------------+--------------------+------------------+----+----------+\n",
      "only showing top 10 rows\n",
      "\n"
     ]
    }
   ],
   "source": [
    "songs_df.show(10)"
   ]
  },
  {
   "cell_type": "code",
   "execution_count": 8,
   "id": "88d756c8",
   "metadata": {},
   "outputs": [],
   "source": [
    "artists_df = spark.read.parquet(os.path.join(output_data,'artists/*.parquet'))"
   ]
  },
  {
   "cell_type": "code",
   "execution_count": 9,
   "id": "d6b5db15",
   "metadata": {},
   "outputs": [
    {
     "name": "stdout",
     "output_type": "stream",
     "text": [
      "+------------------+--------------------+--------------------+---------+----------+\n",
      "|         artist_id|                name|            location| latitude| longitude|\n",
      "+------------------+--------------------+--------------------+---------+----------+\n",
      "|AROU8WM1187B9B4620|   Milton Nascimento|Rio de Janeiro, B...|-22.97673| -43.19508|\n",
      "|AR0ULD71187FB50317|       Desaparecidos| Omaha, Nebraska USA| 41.26069| -95.93995|\n",
      "|AR5OH1V1187FB574C3|Kenny Wayne Shepherd|      Shreveport, LA|     null|      null|\n",
      "|ARCBD0U1187FB466EF|Nelly / Lincoln U...|   HERNDON, Virginia|     null|      null|\n",
      "|AR0F54F1187FB44536|      Ottmar Liebert|    Cologne, Germany| 50.94165|   6.95505|\n",
      "|ARMQHX71187B9890D3|            Mastodon|         Atlanta, GA|     null|      null|\n",
      "|ARFDCVP1187B9B40FC|The Geraldine Fib...|     Los Angeles, CA| 34.05349|-118.24532|\n",
      "|ARF6ZTO1187FB3684F|   Story Of The Year|LONG BEACH, Calif...|     null|      null|\n",
      "|ARKR0111187B99FD2A|Monica featuring ...|    Atlanta, Georgia|     null|      null|\n",
      "|ARD2XKH1187FB4DE4D| Comedian Harmonists|                    |     null|      null|\n",
      "+------------------+--------------------+--------------------+---------+----------+\n",
      "only showing top 10 rows\n",
      "\n"
     ]
    }
   ],
   "source": [
    "artists_df.show(10)"
   ]
  },
  {
   "cell_type": "code",
   "execution_count": 10,
   "id": "82571ddd",
   "metadata": {},
   "outputs": [],
   "source": [
    "users_df = spark.read.parquet(os.path.join(output_data,'users/*.parquet'))"
   ]
  },
  {
   "cell_type": "code",
   "execution_count": 11,
   "id": "0ffd2606",
   "metadata": {},
   "outputs": [
    {
     "name": "stdout",
     "output_type": "stream",
     "text": [
      "+-------+----------+---------+------+-----+\n",
      "|user_id|first_name|last_name|gender|level|\n",
      "+-------+----------+---------+------+-----+\n",
      "|    100|     Adler|  Barrera|     M| free|\n",
      "|     89|   Kynnedi|  Sanchez|     F| free|\n",
      "|     85|   Kinsley|    Young|     F| paid|\n",
      "|     85|   Kinsley|    Young|     F| free|\n",
      "|     64|    Hannah|  Calhoun|     F| free|\n",
      "|     16|     Rylan|   George|     M| free|\n",
      "|     66|     Kevin| Arellano|     M| free|\n",
      "|     27|    Carlos|   Carter|     M| free|\n",
      "|     38|    Gianna|    Jones|     F| free|\n",
      "|     37|    Jordan|    Hicks|     F| free|\n",
      "+-------+----------+---------+------+-----+\n",
      "only showing top 10 rows\n",
      "\n"
     ]
    }
   ],
   "source": [
    "users_df.show(10)"
   ]
  },
  {
   "cell_type": "code",
   "execution_count": 12,
   "id": "8c1a2f79",
   "metadata": {},
   "outputs": [],
   "source": [
    "time_df = spark.read.parquet(os.path.join(output_data,'time/*/*/*.parquet'))"
   ]
  },
  {
   "cell_type": "code",
   "execution_count": 13,
   "id": "741c8214",
   "metadata": {},
   "outputs": [
    {
     "name": "stdout",
     "output_type": "stream",
     "text": [
      "+--------------------+----+---+----+-----+----+-------+\n",
      "|          start_time|hour|day|week|month|year|weekday|\n",
      "+--------------------+----+---+----+-----+----+-------+\n",
      "|2018-11-20 10:59:...|  10| 20|  47|   11|2018|      3|\n",
      "|2018-11-30 16:38:...|  16| 30|  48|   11|2018|      6|\n",
      "|2018-11-16 23:34:...|  23| 16|  46|   11|2018|      6|\n",
      "|2018-11-20 02:05:...|   2| 20|  47|   11|2018|      3|\n",
      "|2018-11-16 10:12:...|  10| 16|  46|   11|2018|      6|\n",
      "|2018-11-20 01:33:...|   1| 20|  47|   11|2018|      3|\n",
      "|2018-11-16 14:07:...|  14| 16|  46|   11|2018|      6|\n",
      "|2018-11-20 11:43:...|  11| 20|  47|   11|2018|      3|\n",
      "|2018-11-16 19:06:...|  19| 16|  46|   11|2018|      6|\n",
      "|2018-11-16 22:59:...|  22| 16|  46|   11|2018|      6|\n",
      "+--------------------+----+---+----+-----+----+-------+\n",
      "only showing top 10 rows\n",
      "\n"
     ]
    }
   ],
   "source": [
    "time_df.show(10)"
   ]
  },
  {
   "cell_type": "code",
   "execution_count": 14,
   "id": "46cbafec",
   "metadata": {},
   "outputs": [],
   "source": [
    "songplays_df = spark.read.parquet(os.path.join(output_data,'songplays/*/*/*.parquet'))"
   ]
  },
  {
   "cell_type": "code",
   "execution_count": 15,
   "id": "9d927e10",
   "metadata": {},
   "outputs": [
    {
     "name": "stdout",
     "output_type": "stream",
     "text": [
      "+------------+--------------------+-------+-----+------------------+------------------+----------+--------------------+--------------------+\n",
      "| songplay_id|          start_time|user_id|level|           song_id|         artist_id|session_id|            location|          user_agent|\n",
      "+------------+--------------------+-------+-----+------------------+------------------+----------+--------------------+--------------------+\n",
      "| 17179869223|2018-11-05 02:59:...|     52| free|SOTEOMG12AB0184E70|ARAFI9R1187B9AC5B5|       226|Houston-The Woodl...|Mozilla/5.0 (Wind...|\n",
      "| 17179869219|2018-11-12 18:51:...|     73| paid|SOBYGNT12A8C1378FB|AR0Q7DR1187B9AC35D|       294|Tampa-St. Petersb...|\"Mozilla/5.0 (Mac...|\n",
      "| 17179869213|2018-11-15 14:46:...|     30| paid|SOTCOTZ12A8C136BCB|AR7WK5411A348EF5EA|       324|San Jose-Sunnyval...|Mozilla/5.0 (Wind...|\n",
      "| 17179869267|2018-11-20 17:50:...|     63| free|SOYEKUR12AAF3B5274|ARSU2921187FB51029|       729|      Santa Rosa, CA|\"Mozilla/5.0 (Mac...|\n",
      "| 42949672960|2018-11-22 11:52:...|     97| paid|SOYPFWS12AB017C999|AR62ID71187FB3B2DA|       828|Lansing-East Lans...|\"Mozilla/5.0 (X11...|\n",
      "| 42949673004|2018-11-29 16:58:...|     16| paid|SORWNSF12A6D4FCCA7|ARW19E01187B9AEB8D|       983|Birmingham-Hoover...|\"Mozilla/5.0 (Mac...|\n",
      "| 42949673042|2018-11-05 11:21:...|     44| paid|SOIXAJN12AB0183EE3|ARUYVDC12086C11D5C|       269|Waterloo-Cedar Fa...|Mozilla/5.0 (Maci...|\n",
      "| 68719476758|2018-11-30 06:37:...|     49| paid|SOWZREF12A8C13810B|AROY6XW1187B991121|      1079|San Francisco-Oak...|Mozilla/5.0 (Wind...|\n",
      "| 94489280529|2018-11-19 09:14:...|     24| paid|SOFNHTC12A8C13BBC9|AR6ZBSM1187B990030|       672|Lake Havasu City-...|\"Mozilla/5.0 (Win...|\n",
      "|154618822659|2018-11-09 17:55:...|     80| paid|SOAOJYY12A58A7B2F9|ARFVYJI1187B9B8E13|       416|Portland-South Po...|\"Mozilla/5.0 (Mac...|\n",
      "+------------+--------------------+-------+-----+------------------+------------------+----------+--------------------+--------------------+\n",
      "only showing top 10 rows\n",
      "\n"
     ]
    }
   ],
   "source": [
    "songplays_df.show(10)"
   ]
  }
 ],
 "metadata": {
  "kernelspec": {
   "display_name": "Python 3 (ipykernel)",
   "language": "python",
   "name": "python3"
  },
  "language_info": {
   "codemirror_mode": {
    "name": "ipython",
    "version": 3
   },
   "file_extension": ".py",
   "mimetype": "text/x-python",
   "name": "python",
   "nbconvert_exporter": "python",
   "pygments_lexer": "ipython3",
   "version": "3.9.7"
  }
 },
 "nbformat": 4,
 "nbformat_minor": 5
}
